{
 "cells": [
  {
   "cell_type": "markdown",
   "metadata": {},
   "source": [
    "<img src=\"./images/DLI_Header.png\" style=\"width: 400px;\">"
   ]
  },
  {
   "cell_type": "markdown",
   "metadata": {},
   "source": [
    "# Assessment"
   ]
  },
  {
   "cell_type": "markdown",
   "metadata": {},
   "source": [
    "Congratulations on going through today's course! Hopefully, you've learned some valuable skills along the way and had fun doing it. Now it's time to put those skills to the test. In this assessment, you will train a new model that is able to recognize fresh and rotten fruit. You will need to get the model to a validation accuracy of `92%` in order to pass the assessment, though we challenge you to do even better if you can. You will have the use the skills that you learned in the previous exercises. Specifically, we suggest using some combination of transfer learning, data augmentation, and fine tuning. Once you have trained the model to be at least 92% accurate on the validation dataset, save your model, and then assess its accuracy. Let's get started! "
   ]
  },
  {
   "cell_type": "markdown",
   "metadata": {},
   "source": [
    "## The Dataset"
   ]
  },
  {
   "cell_type": "markdown",
   "metadata": {},
   "source": [
    "In this exercise, you will train a model to recognize fresh and rotten fruits. The dataset comes from [Kaggle](https://www.kaggle.com/sriramr/fruits-fresh-and-rotten-for-classification), a great place to go if you're interested in starting a project after this class. The dataset structure is in the `data/fruits` folder. There are 6 categories of fruits: fresh apples, fresh oranges, fresh bananas, rotten apples, rotten oranges, and rotten bananas. This will mean that your model will require an output layer of 6 neurons to do the categorization successfully. You'll also need to compile the model with `categorical_crossentropy`, as we have more than two categories."
   ]
  },
  {
   "cell_type": "markdown",
   "metadata": {},
   "source": [
    "<img src=\"./images/fruits.png\" style=\"width: 600px;\">"
   ]
  },
  {
   "cell_type": "markdown",
   "metadata": {},
   "source": [
    "## Load ImageNet Base Model"
   ]
  },
  {
   "cell_type": "markdown",
   "metadata": {},
   "source": [
    "We encourage you to start with a model pretrained on ImageNet. Load the model with the correct weights, set an input shape, and choose to remove the last layers of the model. Remember that images have three dimensions: a height, and width, and a number of channels. Because these pictures are in color, there will be three channels for red, green, and blue. We've filled in the input shape for you. This cannot be changed or the assessment will fail. If you need a reference for setting up the pretrained model, please take a look at [notebook 05b](05b_presidential_doggy_door.ipynb) where we implemented transfer learning."
   ]
  },
  {
   "cell_type": "code",
   "execution_count": 1,
   "metadata": {},
   "outputs": [],
   "source": [
    "from tensorflow import keras\n",
    "\n",
    "\n",
    "base_model = keras.applications.VGG16(\n",
    "    weights='imagenet',  # Load weights pre-trained on ImageNet.\n",
    "    input_shape=(224, 224, 3),\n",
    "    include_top=False)"
   ]
  },
  {
   "cell_type": "markdown",
   "metadata": {},
   "source": [
    "## Freeze Base Model"
   ]
  },
  {
   "cell_type": "markdown",
   "metadata": {},
   "source": [
    "Next, we suggest freezing the base model, as done in [notebook 05b](05b_presidential_doggy_door.ipynb). This is done so that all the learning from the ImageNet dataset does not get destroyed in the initial training."
   ]
  },
  {
   "cell_type": "code",
   "execution_count": 2,
   "metadata": {},
   "outputs": [],
   "source": [
    "# Freeze base model\n",
    "base_model.trainable = False"
   ]
  },
  {
   "cell_type": "markdown",
   "metadata": {},
   "source": [
    "## Add Layers to Model"
   ]
  },
  {
   "cell_type": "markdown",
   "metadata": {},
   "source": [
    "Now it's time to add layers to the pretrained model. [Notebook 05b](05b_presidential_doggy_door.ipynb) can be used as a guide. Pay close attention to the last dense layer and make sure it has the correct number of neurons to classify the different types of fruit."
   ]
  },
  {
   "cell_type": "code",
   "execution_count": 3,
   "metadata": {},
   "outputs": [],
   "source": [
    "\n",
    "\n",
    "inputs = keras.Input(shape=(224, 224, 3))\n",
    "# Separately from setting trainable on the model, we set training to False \n",
    "x = base_model(inputs, training=False)\n",
    "x = keras.layers.GlobalAveragePooling2D()(x)\n",
    "\n",
    "outputs = keras.layers.Dense(6)(x)\n",
    "model = keras.Model(inputs, outputs)"
   ]
  },
  {
   "cell_type": "code",
   "execution_count": 4,
   "metadata": {},
   "outputs": [
    {
     "name": "stdout",
     "output_type": "stream",
     "text": [
      "Model: \"model\"\n",
      "_________________________________________________________________\n",
      "Layer (type)                 Output Shape              Param #   \n",
      "=================================================================\n",
      "input_2 (InputLayer)         [(None, 224, 224, 3)]     0         \n",
      "_________________________________________________________________\n",
      "vgg16 (Model)                (None, 7, 7, 512)         14714688  \n",
      "_________________________________________________________________\n",
      "global_average_pooling2d (Gl (None, 512)               0         \n",
      "_________________________________________________________________\n",
      "dense (Dense)                (None, 6)                 3078      \n",
      "=================================================================\n",
      "Total params: 14,717,766\n",
      "Trainable params: 3,078\n",
      "Non-trainable params: 14,714,688\n",
      "_________________________________________________________________\n"
     ]
    }
   ],
   "source": [
    "model.summary()"
   ]
  },
  {
   "cell_type": "markdown",
   "metadata": {},
   "source": [
    "## Compile Model"
   ]
  },
  {
   "cell_type": "markdown",
   "metadata": {},
   "source": [
    "Now it's time to compile the model with loss and metrics options. Remember that we're training on a number of different categories, rather than a binary classification problem."
   ]
  },
  {
   "cell_type": "code",
   "execution_count": 6,
   "metadata": {},
   "outputs": [],
   "source": [
    "model.compile(loss=keras.losses.CategoricalCrossentropy(from_logits=True), metrics=[keras.metrics.CategoricalAccuracy()])"
   ]
  },
  {
   "cell_type": "markdown",
   "metadata": {},
   "source": [
    "## Augment the Data"
   ]
  },
  {
   "cell_type": "markdown",
   "metadata": {},
   "source": [
    "If you'd like, try to augment the data to improve the dataset. Feel free to look at [notebook 04a](04a_asl_augmentation.ipynb) and [notebook 05b](05b_presidential_doggy_door.ipynb) for augmentation examples. There is also documentation for the [Keras ImageDataGenerator class](https://keras.io/api/preprocessing/image/#imagedatagenerator-class). This step is optional, but it may be helpful to get to 92% accuracy."
   ]
  },
  {
   "cell_type": "code",
   "execution_count": 7,
   "metadata": {},
   "outputs": [],
   "source": [
    "from tensorflow.keras.preprocessing.image import ImageDataGenerator\n",
    "\n",
    "datagen = ImageDataGenerator(\n",
    "        samplewise_center=True,  # set each sample mean to 0\n",
    "        rotation_range=10,  # randomly rotate images in the range (degrees, 0 to 180)\n",
    "        zoom_range = 0.1, # Randomly zoom image \n",
    "        width_shift_range=0.1,  # randomly shift images horizontally (fraction of total width)\n",
    "        height_shift_range=0.1,  # randomly shift images vertically (fraction of total height)\n",
    "        horizontal_flip=True,  # randomly flip images\n",
    "        vertical_flip=False) # we don't expect Bo to be upside-down so we will not flip vertically"
   ]
  },
  {
   "cell_type": "markdown",
   "metadata": {},
   "source": [
    "## Load Dataset"
   ]
  },
  {
   "cell_type": "markdown",
   "metadata": {},
   "source": [
    "Now it's time to load the train and validation datasets. Pick the right folders, as well as the right `target_size` of the images (it needs to match the height and width input of the model you've created). If you'd like a reference, you can check out [notebook 05b](05b_presidential_doggy_door.ipynb)."
   ]
  },
  {
   "cell_type": "code",
   "execution_count": 8,
   "metadata": {},
   "outputs": [
    {
     "name": "stdout",
     "output_type": "stream",
     "text": [
      "Found 1182 images belonging to 6 classes.\n",
      "Found 329 images belonging to 6 classes.\n"
     ]
    }
   ],
   "source": [
    "\n",
    "# load and iterate training dataset\n",
    "train_it = datagen.flow_from_directory('data/fruits/train/', \n",
    "                                       target_size=(224, 224), \n",
    "                                       color_mode='rgb', \n",
    "                                       class_mode='categorical', \n",
    "                                       batch_size=8)\n",
    "# load and iterate validation dataset\n",
    "valid_it = datagen.flow_from_directory('data/fruits/valid/', \n",
    "                                      target_size=(224, 224), \n",
    "                                      color_mode='rgb', \n",
    "                                      class_mode='categorical', \n",
    "                                      batch_size=8)"
   ]
  },
  {
   "cell_type": "markdown",
   "metadata": {},
   "source": [
    "## Train the Model"
   ]
  },
  {
   "cell_type": "markdown",
   "metadata": {},
   "source": [
    "Time to train the model! Pass the `train` and `valid` iterators into the `fit` function, as well as setting your desired number of epochs."
   ]
  },
  {
   "cell_type": "code",
   "execution_count": 9,
   "metadata": {},
   "outputs": [
    {
     "name": "stdout",
     "output_type": "stream",
     "text": [
      "Epoch 1/20\n",
      "12/12 [==============================] - 4s 333ms/step - loss: 6.5561 - categorical_accuracy: 0.1875 - val_loss: 4.1432 - val_categorical_accuracy: 0.1562\n",
      "Epoch 2/20\n",
      "12/12 [==============================] - 2s 149ms/step - loss: 2.8279 - categorical_accuracy: 0.3958 - val_loss: 2.9097 - val_categorical_accuracy: 0.5000\n",
      "Epoch 3/20\n",
      "12/12 [==============================] - 2s 149ms/step - loss: 2.6547 - categorical_accuracy: 0.4479 - val_loss: 1.9396 - val_categorical_accuracy: 0.5000\n",
      "Epoch 4/20\n",
      "12/12 [==============================] - 2s 152ms/step - loss: 1.9132 - categorical_accuracy: 0.6146 - val_loss: 1.1009 - val_categorical_accuracy: 0.7188\n",
      "Epoch 5/20\n",
      "12/12 [==============================] - 2s 149ms/step - loss: 1.5076 - categorical_accuracy: 0.6354 - val_loss: 0.8505 - val_categorical_accuracy: 0.7500\n",
      "Epoch 6/20\n",
      "12/12 [==============================] - 2s 144ms/step - loss: 1.7209 - categorical_accuracy: 0.5625 - val_loss: 0.6409 - val_categorical_accuracy: 0.7500\n",
      "Epoch 7/20\n",
      "12/12 [==============================] - 2s 149ms/step - loss: 0.9146 - categorical_accuracy: 0.7188 - val_loss: 1.7255 - val_categorical_accuracy: 0.6250\n",
      "Epoch 8/20\n",
      "12/12 [==============================] - 2s 149ms/step - loss: 0.7614 - categorical_accuracy: 0.8021 - val_loss: 0.6450 - val_categorical_accuracy: 0.7188\n",
      "Epoch 9/20\n",
      "12/12 [==============================] - 2s 181ms/step - loss: 1.2080 - categorical_accuracy: 0.7083 - val_loss: 1.3254 - val_categorical_accuracy: 0.7200\n",
      "Epoch 10/20\n",
      "12/12 [==============================] - 2s 145ms/step - loss: 0.5005 - categorical_accuracy: 0.8125 - val_loss: 0.8174 - val_categorical_accuracy: 0.7500\n",
      "Epoch 11/20\n",
      "12/12 [==============================] - 2s 150ms/step - loss: 1.0268 - categorical_accuracy: 0.6979 - val_loss: 0.4073 - val_categorical_accuracy: 0.9062\n",
      "Epoch 12/20\n",
      "12/12 [==============================] - 2s 145ms/step - loss: 0.5286 - categorical_accuracy: 0.8333 - val_loss: 0.5221 - val_categorical_accuracy: 0.8438\n",
      "Epoch 13/20\n",
      "12/12 [==============================] - 3s 214ms/step - loss: 0.3229 - categorical_accuracy: 0.8830 - val_loss: 0.2534 - val_categorical_accuracy: 0.9062\n",
      "Epoch 14/20\n",
      "12/12 [==============================] - 2s 162ms/step - loss: 0.4875 - categorical_accuracy: 0.8646 - val_loss: 0.6397 - val_categorical_accuracy: 0.8438\n",
      "Epoch 15/20\n",
      "12/12 [==============================] - 2s 143ms/step - loss: 0.3641 - categorical_accuracy: 0.8646 - val_loss: 0.4483 - val_categorical_accuracy: 0.8750\n",
      "Epoch 16/20\n",
      "12/12 [==============================] - 2s 146ms/step - loss: 0.3365 - categorical_accuracy: 0.8646 - val_loss: 0.2152 - val_categorical_accuracy: 0.8750\n",
      "Epoch 17/20\n",
      "12/12 [==============================] - 2s 138ms/step - loss: 0.7144 - categorical_accuracy: 0.8333 - val_loss: 0.5381 - val_categorical_accuracy: 0.8000\n",
      "Epoch 18/20\n",
      "12/12 [==============================] - 2s 142ms/step - loss: 0.2206 - categorical_accuracy: 0.9271 - val_loss: 0.1474 - val_categorical_accuracy: 0.9375\n",
      "Epoch 19/20\n",
      "12/12 [==============================] - 2s 145ms/step - loss: 0.6939 - categorical_accuracy: 0.8229 - val_loss: 0.4462 - val_categorical_accuracy: 0.8125\n",
      "Epoch 20/20\n",
      "12/12 [==============================] - 2s 143ms/step - loss: 0.2753 - categorical_accuracy: 0.8750 - val_loss: 0.3371 - val_categorical_accuracy: 0.8750\n"
     ]
    },
    {
     "data": {
      "text/plain": [
       "<tensorflow.python.keras.callbacks.History at 0x7f27ac311a90>"
      ]
     },
     "execution_count": 9,
     "metadata": {},
     "output_type": "execute_result"
    }
   ],
   "source": [
    "model.fit(train_it, steps_per_epoch=12, validation_data=valid_it, validation_steps=4, epochs=20)"
   ]
  },
  {
   "cell_type": "markdown",
   "metadata": {},
   "source": [
    "## Unfreeze Model for Fine Tuning"
   ]
  },
  {
   "cell_type": "markdown",
   "metadata": {},
   "source": [
    "If you have reached 92% validation accuracy already, this next step is optional. If not, we suggest fine tuning the model with a very low learning rate."
   ]
  },
  {
   "cell_type": "code",
   "execution_count": 10,
   "metadata": {},
   "outputs": [],
   "source": [
    "# Unfreeze the base model\n",
    "base_model.trainable = True\n",
    "\n",
    "# It's important to recompile your model after you make any changes\n",
    "# to the `trainable` attribute of any inner layer, so that your changes\n",
    "# are taken into account\n",
    "model.compile(optimizer=keras.optimizers.RMSprop(learning_rate = .00001),  # Very low learning rate\n",
    "              loss=keras.losses.CategoricalCrossentropy(from_logits=True),\n",
    "              metrics=[keras.metrics.CategoricalAccuracy()])"
   ]
  },
  {
   "cell_type": "code",
   "execution_count": 11,
   "metadata": {},
   "outputs": [
    {
     "name": "stdout",
     "output_type": "stream",
     "text": [
      "Epoch 1/10\n",
      "12/12 [==============================] - 8s 640ms/step - loss: 0.4858 - categorical_accuracy: 0.8750 - val_loss: 0.1595 - val_categorical_accuracy: 0.9688\n",
      "Epoch 2/10\n",
      "12/12 [==============================] - 2s 167ms/step - loss: 0.3054 - categorical_accuracy: 0.8750 - val_loss: 0.1124 - val_categorical_accuracy: 0.9375\n",
      "Epoch 3/10\n",
      "12/12 [==============================] - 2s 169ms/step - loss: 0.4296 - categorical_accuracy: 0.9167 - val_loss: 0.2169 - val_categorical_accuracy: 0.9062\n",
      "Epoch 4/10\n",
      "12/12 [==============================] - 2s 168ms/step - loss: 0.1494 - categorical_accuracy: 0.9375 - val_loss: 0.0950 - val_categorical_accuracy: 0.9375\n",
      "Epoch 5/10\n",
      "12/12 [==============================] - 3s 275ms/step - loss: 0.5088 - categorical_accuracy: 0.8830 - val_loss: 0.5259 - val_categorical_accuracy: 0.9062\n",
      "Epoch 6/10\n",
      "12/12 [==============================] - 2s 161ms/step - loss: 0.2230 - categorical_accuracy: 0.8958 - val_loss: 0.2449 - val_categorical_accuracy: 0.9200\n",
      "Epoch 7/10\n",
      "12/12 [==============================] - 2s 168ms/step - loss: 0.0816 - categorical_accuracy: 0.9792 - val_loss: 0.1196 - val_categorical_accuracy: 0.9375\n",
      "Epoch 8/10\n",
      "12/12 [==============================] - 2s 168ms/step - loss: 0.0780 - categorical_accuracy: 0.9688 - val_loss: 0.3910 - val_categorical_accuracy: 0.8750\n",
      "Epoch 9/10\n",
      "12/12 [==============================] - 2s 166ms/step - loss: 0.2728 - categorical_accuracy: 0.9583 - val_loss: 0.0208 - val_categorical_accuracy: 1.0000\n",
      "Epoch 10/10\n",
      "12/12 [==============================] - 2s 170ms/step - loss: 0.0231 - categorical_accuracy: 1.0000 - val_loss: 0.1904 - val_categorical_accuracy: 0.9375\n"
     ]
    },
    {
     "data": {
      "text/plain": [
       "<tensorflow.python.keras.callbacks.History at 0x7f27a008d5f8>"
      ]
     },
     "execution_count": 11,
     "metadata": {},
     "output_type": "execute_result"
    }
   ],
   "source": [
    "model.fit(train_it, steps_per_epoch=12, validation_data=valid_it, validation_steps=4, epochs=10)"
   ]
  },
  {
   "cell_type": "markdown",
   "metadata": {},
   "source": [
    "## Evaluate the Model"
   ]
  },
  {
   "cell_type": "markdown",
   "metadata": {},
   "source": [
    "Hopefully, you now have a model that has a validation accuracy of 92% or higher. If not, you may want to go back and either run more epochs of training, or adjust your data augmentation. \n",
    "\n",
    "Once you are satisfied with the validation accuracy, evaluate the model by executing the following cell. The evaluate function will return a tuple, where the first value is your loss, and the second value is your accuracy. To pass, the model will need have an accuracy value of `92% or higher`. "
   ]
  },
  {
   "cell_type": "code",
   "execution_count": 12,
   "metadata": {},
   "outputs": [
    {
     "name": "stdout",
     "output_type": "stream",
     "text": [
      "42/41 [==============================] - 4s 101ms/step - loss: 0.1341 - categorical_accuracy: 0.9635\n"
     ]
    },
    {
     "data": {
      "text/plain": [
       "[0.13408349454402924, 0.9635258316993713]"
      ]
     },
     "execution_count": 12,
     "metadata": {},
     "output_type": "execute_result"
    }
   ],
   "source": [
    "model.evaluate(valid_it, steps=valid_it.samples/valid_it.batch_size)"
   ]
  },
  {
   "cell_type": "markdown",
   "metadata": {},
   "source": [
    "## Run the Assessment"
   ]
  },
  {
   "cell_type": "markdown",
   "metadata": {},
   "source": [
    "To assess your model run the following two cells.\n",
    "\n",
    "**NOTE:** `run_assessment` assumes your model is named `model` and your validation data iterator is called `valid_it`. If for any reason you have modified these variable names, please update the names of the arguments passed to `run_assessment`."
   ]
  },
  {
   "cell_type": "code",
   "execution_count": 13,
   "metadata": {},
   "outputs": [],
   "source": [
    "from run_assessment import run_assessment"
   ]
  },
  {
   "cell_type": "code",
   "execution_count": 14,
   "metadata": {},
   "outputs": [
    {
     "name": "stdout",
     "output_type": "stream",
     "text": [
      "Evaluating model 5 times to obtain average accuracy...\n",
      "\n",
      "42/41 [==============================] - 4s 100ms/step - loss: 0.1752 - categorical_accuracy: 0.9574\n",
      "42/41 [==============================] - 4s 100ms/step - loss: 0.1498 - categorical_accuracy: 0.9544\n",
      "42/41 [==============================] - 4s 100ms/step - loss: 0.1412 - categorical_accuracy: 0.9635\n",
      "42/41 [==============================] - 4s 106ms/step - loss: 0.1612 - categorical_accuracy: 0.9362\n",
      "42/41 [==============================] - 4s 102ms/step - loss: 0.1284 - categorical_accuracy: 0.9605\n",
      "\n",
      "Accuracy required to pass the assessment is 0.92 or greater.\n",
      "Your average accuracy is 0.9544.\n",
      "\n",
      "Congratulations! You passed the assessment!\n",
      "See instructions below to generate a certificate.\n"
     ]
    }
   ],
   "source": [
    "run_assessment(model, valid_it)"
   ]
  },
  {
   "cell_type": "markdown",
   "metadata": {},
   "source": []
  },
  {
   "cell_type": "markdown",
   "metadata": {},
   "source": []
  },
  {
   "cell_type": "markdown",
   "metadata": {},
   "source": []
  },
  {
   "cell_type": "code",
   "execution_count": null,
   "metadata": {},
   "outputs": [],
   "source": []
  }
 ],
 "metadata": {
  "kernelspec": {
   "display_name": "Python 3 (ipykernel)",
   "language": "python",
   "name": "python3"
  },
  "language_info": {
   "codemirror_mode": {
    "name": "ipython",
    "version": 3
   },
   "file_extension": ".py",
   "mimetype": "text/x-python",
   "name": "python",
   "nbconvert_exporter": "python",
   "pygments_lexer": "ipython3",
   "version": "3.9.7"
  }
 },
 "nbformat": 4,
 "nbformat_minor": 4
}
